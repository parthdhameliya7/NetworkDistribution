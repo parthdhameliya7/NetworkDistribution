{
 "cells": [
  {
   "cell_type": "code",
   "execution_count": 1,
   "metadata": {},
   "outputs": [],
   "source": [
    "import torch \n",
    "import torch.nn as nn \n",
    "import torch.nn.functional as F \n",
    "\n",
    "import numpy as np \n",
    "import pandas as pd\n",
    "import matplotlib.pyplot as plt\n",
    "from sklearn.model_selection import train_test_split"
   ]
  },
  {
   "cell_type": "code",
   "execution_count": 2,
   "metadata": {},
   "outputs": [],
   "source": [
    "data = pd.read_csv('train.csv')\n",
    "train_data, valid_data = train_test_split(data, test_size=0.2, random_state=42, shuffle=True)\n",
    "train_data = train_data.reset_index(drop=True)\n",
    "valid_data = valid_data.reset_index(drop=True)"
   ]
  },
  {
   "cell_type": "code",
   "execution_count": 3,
   "metadata": {},
   "outputs": [],
   "source": [
    "X_tr, Y_tr = train_data.drop('label', axis=1).values, train_data['label'].values\n",
    "X_val, Y_val = valid_data.drop('label', axis=1).values, valid_data['label'].values"
   ]
  },
  {
   "cell_type": "code",
   "execution_count": 4,
   "metadata": {},
   "outputs": [],
   "source": [
    "X_tr = torch.tensor(X_tr, dtype=torch.float32) / 255.0\n",
    "Y_tr = torch.tensor(Y_tr, dtype=torch.long)\n",
    "\n",
    "X_val = torch.tensor(X_val, dtype=torch.float32) / 255.0\n",
    "Y_val = torch.tensor(Y_val, dtype=torch.long)"
   ]
  },
  {
   "cell_type": "code",
   "execution_count": 5,
   "metadata": {},
   "outputs": [],
   "source": [
    "input_size = X_tr.shape[1]\n",
    "hidden_layer_1_size = 512\n",
    "hidden_layer_2_size = 512\n",
    "hidden_layer_3_size = 512\n",
    "output_size = 10"
   ]
  },
  {
   "cell_type": "code",
   "execution_count": 6,
   "metadata": {},
   "outputs": [
    {
     "name": "stdout",
     "output_type": "stream",
     "text": [
      "Sequential(\n",
      "  (0): Linear(in_features=784, out_features=512, bias=True)\n",
      "  (1): BatchNorm1d(512, eps=1e-05, momentum=0.1, affine=True, track_running_stats=True)\n",
      "  (2): Tanh()\n",
      "  (3): Linear(in_features=512, out_features=512, bias=True)\n",
      "  (4): BatchNorm1d(512, eps=1e-05, momentum=0.1, affine=True, track_running_stats=True)\n",
      "  (5): Tanh()\n",
      "  (6): Linear(in_features=512, out_features=512, bias=True)\n",
      "  (7): BatchNorm1d(512, eps=1e-05, momentum=0.1, affine=True, track_running_stats=True)\n",
      "  (8): Tanh()\n",
      "  (9): Linear(in_features=512, out_features=10, bias=True)\n",
      "  (10): BatchNorm1d(10, eps=1e-05, momentum=0.1, affine=True, track_running_stats=True)\n",
      ")\n"
     ]
    }
   ],
   "source": [
    "import torch\n",
    "\n",
    "import torch.nn as nn\n",
    "\n",
    "# Define the sequential model\n",
    "model = nn.Sequential(\n",
    "    nn.Linear(input_size, hidden_layer_1_size),\n",
    "    nn.BatchNorm1d(hidden_layer_1_size),\n",
    "    nn.Tanh(),\n",
    "    nn.Linear(hidden_layer_1_size, hidden_layer_2_size),\n",
    "    nn.BatchNorm1d(hidden_layer_2_size),\n",
    "    nn.Tanh(),\n",
    "    nn.Linear(hidden_layer_2_size, hidden_layer_3_size),\n",
    "    nn.BatchNorm1d(hidden_layer_3_size),\n",
    "    nn.Tanh(),\n",
    "    nn.Linear(hidden_layer_3_size, output_size),\n",
    "    nn.BatchNorm1d(output_size)\n",
    ")\n",
    "\n",
    "def init_weights(m):\n",
    "    if isinstance(m, nn.Linear):\n",
    "        m.weight.data = torch.randn(m.weight.size())\n",
    "        m.bias.data = torch.randn(m.bias.size())\n",
    "\n",
    "# Apply the custom weight initialization to the model\n",
    "model.apply(init_weights)\n",
    "\n",
    "\n",
    "# Print the model architecture\n",
    "print(model)\n",
    "\n",
    "# Register hooks to get output from tanh activations\n",
    "# Dictionary to store the outputs and gradients\n",
    "outputs = {}\n",
    "gradients = {}\n",
    "\n",
    "# Function to save the output\n",
    "def save_output(name):\n",
    "    def hook(module, input, output):\n",
    "        outputs[name] = output\n",
    "    return hook\n",
    "\n",
    "# Function to save the gradients\n",
    "def save_gradient(name):\n",
    "    def hook(module, grad_input, grad_output):\n",
    "        gradients[name] = grad_output[0]\n",
    "    return hook\n",
    "\n",
    "for name, layer in model.named_modules():\n",
    "    if isinstance(layer, nn.Tanh):\n",
    "        layer.register_forward_hook(save_output(name))\n",
    "        layer.register_backward_hook(save_gradient(name))"
   ]
  },
  {
   "cell_type": "code",
   "execution_count": 7,
   "metadata": {},
   "outputs": [
    {
     "name": "stdout",
     "output_type": "stream",
     "text": [
      "Total number of parameters:  935454\n"
     ]
    }
   ],
   "source": [
    "total_params = sum(p.numel() for p in model.parameters())\n",
    "print(\"Total number of parameters: \", total_params)"
   ]
  },
  {
   "cell_type": "code",
   "execution_count": 8,
   "metadata": {},
   "outputs": [
    {
     "name": "stdout",
     "output_type": "stream",
     "text": [
      "iteration 0/100000, loss: 2.807199716567993\n",
      "iteration 10000/100000, loss: 0.7032634019851685\n",
      "iteration 20000/100000, loss: 0.7268469333648682\n",
      "iteration 30000/100000, loss: 0.6932451725006104\n",
      "iteration 40000/100000, loss: 0.48400384187698364\n",
      "iteration 50000/100000, loss: 0.4016418755054474\n",
      "iteration 60000/100000, loss: 0.3409869968891144\n",
      "iteration 70000/100000, loss: 0.1752861738204956\n"
     ]
    }
   ],
   "source": [
    "batch_size = 32\n",
    "g = torch.Generator().manual_seed(2147483647)\n",
    "\n",
    "for i in range(100000):\n",
    "    # Created batches\n",
    "    ix = torch.randint(0, X_tr.shape[0], (batch_size,), generator=g)\n",
    "    x, y = X_tr[ix], Y_tr[ix] # batch X,Y\n",
    "    y = Y_tr[ix]\n",
    "\n",
    "    # Forward pass\n",
    "    logits = model(x)\n",
    "    loss = F.cross_entropy(logits, y)\n",
    "\n",
    "    #backward pass \n",
    "    for p in model.parameters():\n",
    "        p.grad = None\n",
    "    loss.backward()\n",
    "\n",
    "    for p in model.parameters():\n",
    "        p.data -= 0.01 * p.grad\n",
    "\n",
    "    if i % 10000 == 0:\n",
    "        print(f'iteration {i}/{100000}, loss: {loss.item()}')"
   ]
  },
  {
   "cell_type": "code",
   "execution_count": null,
   "metadata": {},
   "outputs": [],
   "source": [
    "a1 = outputs['2']; a2 = outputs['5']; a3 = outputs['8']\n",
    "\n",
    "plt.figure(figsize=(40, 30))\n",
    "\n",
    "# Plot for a1\n",
    "plt.subplot(1, 3, 1)\n",
    "plt.imshow(a1.abs() > 0.97, cmap='gray', interpolation='nearest')\n",
    "plt.title('Activation a1')\n",
    "\n",
    "# Plot for a2\n",
    "plt.subplot(1, 3, 2)\n",
    "plt.imshow(a2.abs() > 0.97, cmap='gray', interpolation='nearest')\n",
    "plt.title('Activation a2')\n",
    "\n",
    "# Plot for a3\n",
    "plt.subplot(1, 3, 3)\n",
    "plt.imshow(a3.abs() > 0.97, cmap='gray', interpolation='nearest')\n",
    "plt.title('Activation a3')\n",
    "\n",
    "plt.show()"
   ]
  },
  {
   "cell_type": "code",
   "execution_count": null,
   "metadata": {},
   "outputs": [],
   "source": [
    "plt.figure(figsize=(20, 4))\n",
    "\n",
    "hy, hx = torch.histogram(a1, density=True)\n",
    "plt.plot(hx[:-1].detach(), hy.detach())\n",
    "print('layer %d (%10s): mean %+.2f, std %.2f, saturated: %.2f%%' % (1, 'a1', a1.mean(), a1.std(), (a1.abs() > 0.97).float().mean()*100))\n",
    "\n",
    "hy, hx = torch.histogram(a2, density=True)\n",
    "plt.plot(hx[:-1].detach(), hy.detach())\n",
    "print('layer %d (%10s): mean %+.2f, std %.2f, saturated: %.2f%%' % (2, 'a2', a2.mean(), a2.std(), (a2.abs() > 0.97).float().mean()*100))\n",
    "\n",
    "hy, hx = torch.histogram(a3, density=True)\n",
    "plt.plot(hx[:-1].detach(), hy.detach())\n",
    "print('layer %d (%10s): mean %+.2f, std %.2f, saturated: %.2f%%' % (2, 'a3', a3.mean(), a3.std(), (a3.abs() > 0.97).float().mean()*100))\n",
    "\n",
    "plt.legend(['layer-a1', 'layer-a2', 'layer-a3'])\n",
    "plt.title('activation distribution')"
   ]
  },
  {
   "cell_type": "code",
   "execution_count": null,
   "metadata": {},
   "outputs": [],
   "source": [
    "t1 = gradients['2']; t2 = gradients['5']; t3 = gradients['8']\n",
    "\n",
    "plt.figure(figsize=(20, 4))\n",
    "\n",
    "hy, hx = torch.histogram(t1, density=True)\n",
    "plt.plot(hx[:-1].detach(), hy.detach())\n",
    "print('layer %d (%10s): mean %+f, std %e' % (1, 'a1gradients', t1.mean(), t1.std()))\n",
    "\n",
    "hy, hx = torch.histogram(t2, density=True)\n",
    "plt.plot(hx[:-1].detach(), hy.detach())\n",
    "print('layer %d (%10s): mean %+f, std %e' % (2, 'a2gradients', t2.mean(), t2.std()))\n",
    "\n",
    "hy, hx = torch.histogram(t3, density=True)\n",
    "plt.plot(hx[:-1].detach(), hy.detach())\n",
    "print('layer %d (%10s): mean %+f, std %e' % (3, 'a2gradients', t3.mean(), t3.std()))\n",
    "\n",
    "plt.legend(['layer-a1-grads', 'layer-a2-grads', 'layer-a3-grads'])\n",
    "plt.title('activation distribution')\n",
    "\n",
    "#plt.xlim(-0.01, 0.01)"
   ]
  }
 ],
 "metadata": {
  "kernelspec": {
   "display_name": "my_env",
   "language": "python",
   "name": "python3"
  },
  "language_info": {
   "codemirror_mode": {
    "name": "ipython",
    "version": 3
   },
   "file_extension": ".py",
   "mimetype": "text/x-python",
   "name": "python",
   "nbconvert_exporter": "python",
   "pygments_lexer": "ipython3",
   "version": "3.10.8"
  }
 },
 "nbformat": 4,
 "nbformat_minor": 2
}

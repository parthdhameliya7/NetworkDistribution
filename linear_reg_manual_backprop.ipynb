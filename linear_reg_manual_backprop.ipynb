{
 "cells": [
  {
   "cell_type": "code",
   "execution_count": 16,
   "metadata": {},
   "outputs": [],
   "source": [
    "import torch "
   ]
  },
  {
   "cell_type": "code",
   "execution_count": 17,
   "metadata": {},
   "outputs": [],
   "source": [
    "def cmp(s, dt, t):\n",
    "  ex = torch.all(dt == t.grad).item()\n",
    "  app = torch.allclose(dt, t.grad)\n",
    "  maxdiff = (dt - t.grad).abs().max().item()\n",
    "  print(f'{s:15s} | exact: {str(ex):5s} | approximate: {str(app):5s} | maxdiff: {maxdiff}')"
   ]
  },
  {
   "cell_type": "code",
   "execution_count": 18,
   "metadata": {},
   "outputs": [],
   "source": [
    "x = torch.tensor([1.0, 2.0, 3.0, 4.0])\n",
    "y = torch.tensor([2.0, 4.0, 6.0, 8.0])"
   ]
  },
  {
   "cell_type": "code",
   "execution_count": 19,
   "metadata": {},
   "outputs": [
    {
     "data": {
      "text/plain": [
       "tensor(54.2126, grad_fn=<DivBackward0>)"
      ]
     },
     "execution_count": 19,
     "metadata": {},
     "output_type": "execute_result"
    }
   ],
   "source": [
    "W1 = torch.randn(1, requires_grad=True)\n",
    "B1 = torch.randn(1, requires_grad=True)\n",
    "n = len(y)\n",
    "\n",
    "H = W1 * x + B1\n",
    "difference = H - y\n",
    "difference_squared = difference ** 2\n",
    "summed = difference_squared.sum()\n",
    "loss = summed / n\n",
    "\n",
    "for t in [difference, difference_squared, H, W1, B1, summed]:\n",
    "  t.retain_grad()\n",
    "loss.backward()\n",
    "loss"
   ]
  },
  {
   "cell_type": "code",
   "execution_count": 20,
   "metadata": {},
   "outputs": [],
   "source": [
    "dsummed = torch.ones_like(summed) * (1/n)\n",
    "ddifferenced_squared = 1 * dsummed\n",
    "ddifference = 2 * difference * ddifferenced_squared\n",
    "dH = 1 * ddifference\n",
    "dy = 1 * dH\n",
    "dW1 = x @ dH\n",
    "dB1 = 1 * dH.sum(0)"
   ]
  },
  {
   "cell_type": "code",
   "execution_count": 21,
   "metadata": {},
   "outputs": [
    {
     "name": "stdout",
     "output_type": "stream",
     "text": [
      "summed          | exact: True  | approximate: True  | maxdiff: 0.0\n",
      "ddifference_squared | exact: True  | approximate: True  | maxdiff: 0.0\n",
      "ddifference     | exact: True  | approximate: True  | maxdiff: 0.0\n",
      "dH              | exact: True  | approximate: True  | maxdiff: 0.0\n",
      "dW              | exact: True  | approximate: True  | maxdiff: 0.0\n",
      "dW              | exact: True  | approximate: True  | maxdiff: 0.0\n"
     ]
    }
   ],
   "source": [
    "cmp('summed', dsummed, summed)\n",
    "cmp('ddifference_squared', ddifferenced_squared, difference_squared)\n",
    "cmp('ddifference', ddifference, difference)\n",
    "cmp('dH', dH, H)\n",
    "cmp('dW', dW1, W1)\n",
    "cmp('dW', dB1, B1)"
   ]
  },
  {
   "cell_type": "code",
   "execution_count": 22,
   "metadata": {},
   "outputs": [],
   "source": [
    "W1 = torch.randn(1, requires_grad=True)\n",
    "B1 = torch.randn(1, requires_grad=True)"
   ]
  },
  {
   "cell_type": "code",
   "execution_count": 23,
   "metadata": {},
   "outputs": [
    {
     "name": "stdout",
     "output_type": "stream",
     "text": [
      "loss: 0.0\n"
     ]
    }
   ],
   "source": [
    "for i in range(1000):\n",
    "\n",
    "    # forward pass\n",
    "    H = W1 * x + B1\n",
    "    difference = H - y\n",
    "    difference_squared = difference ** 2\n",
    "    summed = difference_squared.sum()\n",
    "    loss = summed / n\n",
    "    \n",
    "    #backward pass\n",
    "    dsummed = torch.ones_like(summed) * (1/n)\n",
    "    ddifferenced_squared = 1 * dsummed\n",
    "    ddifference = 2 * difference * ddifferenced_squared\n",
    "    dH = 1 * ddifference\n",
    "    dy = 1 * dH\n",
    "    dW1 = x @ dH\n",
    "    dB1 = 1 * dH.sum(0)\n",
    "\n",
    "    W1 = W1 - 0.1 * dW1\n",
    "    B1 = B1 - 0.1 * dB1\n",
    "\n",
    "print(f'loss: {loss.item()}')\n"
   ]
  }
 ],
 "metadata": {
  "kernelspec": {
   "display_name": "my_env",
   "language": "python",
   "name": "python3"
  },
  "language_info": {
   "codemirror_mode": {
    "name": "ipython",
    "version": 3
   },
   "file_extension": ".py",
   "mimetype": "text/x-python",
   "name": "python",
   "nbconvert_exporter": "python",
   "pygments_lexer": "ipython3",
   "version": "3.10.8"
  }
 },
 "nbformat": 4,
 "nbformat_minor": 2
}
